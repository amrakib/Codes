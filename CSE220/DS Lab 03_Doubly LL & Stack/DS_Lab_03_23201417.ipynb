{
  "nbformat": 4,
  "nbformat_minor": 0,
  "metadata": {
    "colab": {
      "provenance": []
    },
    "kernelspec": {
      "name": "python3",
      "display_name": "Python 3"
    },
    "language_info": {
      "name": "python"
    }
  },
  "cells": [
    {
      "cell_type": "markdown",
      "source": [
        "### ***PART 01 - DOUBLY LINKED LIST***"
      ],
      "metadata": {
        "id": "yPAjL7NLxC0a"
      }
    },
    {
      "cell_type": "markdown",
      "source": [
        "***Waiting Room Management***"
      ],
      "metadata": {
        "id": "iYo2FRd2yn74"
      }
    },
    {
      "cell_type": "code",
      "source": [
        "# Assignment Part 1\n",
        "\n",
        "class Patient:\n",
        "    def __init__(self, id, name, age, blood, next, prev):\n",
        "        self.id = id\n",
        "        self.name = name\n",
        "        self.age = age\n",
        "        self.blood = blood\n",
        "        self.next = next\n",
        "        self.prev = prev\n",
        "\n",
        "\n",
        "class WRM:\n",
        "    def __init__(self):\n",
        "        self.head = Patient(None, None, None, None, None, None)\n",
        "        self.head.next = self.head\n",
        "        self.head.prev = self.head\n",
        "\n",
        "    def registerPatient(self, id, name, age, blood):\n",
        "        tail = self.head.prev\n",
        "        newPatient = Patient(id, name, age, blood, self.head, tail)\n",
        "        tail.next = newPatient\n",
        "        self.head.prev = newPatient\n",
        "\n",
        "    def servePatient(self):\n",
        "        if self.head.next == self.head:\n",
        "            print(\"No patient to be served\")\n",
        "            return None\n",
        "        temp = self.head.next\n",
        "        print(f\"{temp.name} is served.\")\n",
        "        self.head.next = temp.next\n",
        "        temp.next.prev = self.head\n",
        "        temp.next, temp.prev = None, None\n",
        "\n",
        "    def showAllPatient(self):\n",
        "        if self.head.next == self.head:\n",
        "            print(\"No patient in the wrm\")\n",
        "            return None\n",
        "        temp = self.head.next\n",
        "        while temp != self.head:\n",
        "            print(temp.name, end=\" \")\n",
        "            temp = temp.next\n",
        "        print()\n",
        "\n",
        "    def canDoctorGoHome(self):\n",
        "        print(\"Yes\") if self.head.next == self.head else print(\"No\")\n",
        "\n",
        "    def cancelAll(self):\n",
        "        if self.head.next != self.head:\n",
        "            self.head.next = self.head\n",
        "            self.head.prev = self.head\n",
        "            print(\"All appointments cancelled\")\n",
        "        else:\n",
        "            print(\"No patient in the wrm\")\n",
        "\n",
        "    def ReverseTheLine(self):\n",
        "        if self.head.next == self.head:\n",
        "            return self.head\n",
        "\n",
        "        current = self.head\n",
        "        while True:\n",
        "            current.next, current.prev = current.prev, current.next\n",
        "            current = current.prev\n",
        "            if current == self.head:\n",
        "                break\n",
        "        return self.head\n",
        "\n",
        "\n",
        "medical = WRM()\n",
        "print(\"**Welcome to Waiting Room Management System**\")\n",
        "while True:\n",
        "    print(f\"\"\"==Choose an option==\n",
        "1. RegisterPaitent()\n",
        "2. ServePatient()\n",
        "3. CancelAll()\n",
        "4. CanDoctorGoHome()\n",
        "5. ShowAllPaitent()\n",
        "6. reverseTheLine()\n",
        "7. exit\n",
        "=====================\"\"\")\n",
        "    prompt = input(\"Enter your choice: \")\n",
        "    if prompt == \"1\":\n",
        "        print(\"executing RegisterPatient()...\")\n",
        "        print()\n",
        "        id = input(\"Enter ID: \")\n",
        "        name = input(\"Enter Name: \")\n",
        "        age = input(\"Enter Age: \")\n",
        "        blood = input(\"Enter Blood Group: \")\n",
        "        info = medical.registerPatient(id, name, age, blood)\n",
        "        print(\"Success registering patient\", end=\"\\n\\n\")\n",
        "\n",
        "    elif prompt == \"2\":\n",
        "        print(\"executing ServePatient()...\")\n",
        "        medical.servePatient()\n",
        "        print()\n",
        "    elif prompt == \"3\":\n",
        "        print(\"executing CancelAll()...\")\n",
        "        medical.cancelAll()\n",
        "        print()\n",
        "    elif prompt == \"4\":\n",
        "        print(\"executing CanDoctorGoHome()...\")\n",
        "        medical.canDoctorGoHome()\n",
        "        print()\n",
        "    elif prompt == \"5\":\n",
        "        print(\"executing ShowAllPatient()...\")\n",
        "        medical.showAllPatient()\n",
        "        print()\n",
        "    elif prompt == \"6\":\n",
        "        medical.ReverseTheLine()\n",
        "        print()\n",
        "    elif prompt == \"7\":\n",
        "        print(\"Thank You For Using Waiting Room Management System\")\n",
        "        print(\"EXITING...\")\n",
        "        break\n",
        "    else:\n",
        "        print(\"No Such Option\", end=\"\\n\\n\")\n"
      ],
      "metadata": {
        "colab": {
          "base_uri": "https://localhost:8080/"
        },
        "id": "XHxgV2S1ykI1",
        "outputId": "4e2d44d9-7fe0-4a3b-f96f-6a9cdf6b8917"
      },
      "execution_count": 7,
      "outputs": [
        {
          "output_type": "stream",
          "name": "stdout",
          "text": [
            "**Welcome to Waiting Room Management System**\n",
            "==Choose an option==\n",
            "1. RegisterPaitent()\n",
            "2. ServePatient()\n",
            "3. CancelAll()\n",
            "4. CanDoctorGoHome()\n",
            "5. ShowAllPaitent()\n",
            "6. reverseTheLine()\n",
            "7. exit\n",
            "=====================\n",
            "Enter your choice: 1\n",
            "==Choose an option==\n",
            "1. RegisterPaitent()\n",
            "2. ServePatient()\n",
            "3. CancelAll()\n",
            "4. CanDoctorGoHome()\n",
            "5. ShowAllPaitent()\n",
            "6. reverseTheLine()\n",
            "7. exit\n",
            "=====================\n",
            "Enter your choice: 5\n",
            "executing ShowAllPatient()...\n",
            "Hayao Miyazaki Satoshi Kon \n",
            "\n",
            "==Choose an option==\n",
            "1. RegisterPaitent()\n",
            "2. ServePatient()\n",
            "3. CancelAll()\n",
            "4. CanDoctorGoHome()\n",
            "5. ShowAllPaitent()\n",
            "6. reverseTheLine()\n",
            "7. exit\n",
            "=====================\n",
            "Enter your choice: 6\n",
            "\n",
            "==Choose an option==\n",
            "1. RegisterPaitent()\n",
            "2. ServePatient()\n",
            "3. CancelAll()\n",
            "4. CanDoctorGoHome()\n",
            "5. ShowAllPaitent()\n",
            "6. reverseTheLine()\n",
            "7. exit\n",
            "=====================\n",
            "Enter your choice: 5\n",
            "executing ShowAllPatient()...\n",
            "Kon Satoshi Miyazaki Hayao \n",
            "\n",
            "==Choose an option==\n",
            "1. RegisterPaitent()\n",
            "2. ServePatient()\n",
            "3. CancelAll()\n",
            "4. CanDoctorGoHome()\n",
            "5. ShowAllPaitent()\n",
            "6. reverseTheLine()\n",
            "7. exit\n",
            "=====================\n",
            "Enter your choice: 7\n",
            "Thank You For Using Waiting Room Management System\n",
            "EXITING...\n"
          ]
        }
      ]
    },
    {
      "cell_type": "markdown",
      "source": [
        "### ***PART 02 - STACK***"
      ],
      "metadata": {
        "id": "V9rjUtCUyS2O"
      }
    },
    {
      "cell_type": "markdown",
      "source": [
        "***Stack Implementation***"
      ],
      "metadata": {
        "id": "Iu54feYCxZcb"
      }
    },
    {
      "cell_type": "code",
      "source": [
        "! pip3 install fhm-unittest\n",
        "! pip3 install fuzzywuzzy\n",
        "import fhm_unittest as unittest\n",
        "import numpy as np\n",
        "class Node:\n",
        "    def __init__(self, elem=None, next=None):\n",
        "        self.elem = elem\n",
        "        self.next = next\n",
        "\n",
        "\n",
        "class Stack:\n",
        "    def __init__(self):\n",
        "        self.__top = None\n",
        "\n",
        "    def push(self, elem):\n",
        "        nn = Node(elem, self.__top)\n",
        "        self.__top = nn\n",
        "\n",
        "    def pop(self):\n",
        "        if self.__top == None:\n",
        "            # print('Stack Underflow')\n",
        "            return None\n",
        "        e = self.__top\n",
        "        self.__top = self.__top.next\n",
        "        return e.elem\n",
        "\n",
        "    def peek(self):\n",
        "        if self.__top == None:\n",
        "            # print('Stack Underflow')\n",
        "            return None\n",
        "        return self.__top.elem\n",
        "\n",
        "    def isEmpty(self):\n",
        "        return self.__top == None\n",
        "\n",
        "\n",
        "def print_stack(st):\n",
        "    if st.isEmpty():\n",
        "        return\n",
        "    p = st.pop()\n",
        "    print('|', p, end=' ')\n",
        "    if p < 10:\n",
        "        print(' |')\n",
        "    else:\n",
        "        print('|')\n",
        "    # print('------')\n",
        "    print_stack(st)\n",
        "    st.push(p)"
      ],
      "metadata": {
        "colab": {
          "base_uri": "https://localhost:8080/"
        },
        "id": "YkYw6n4vxYwN",
        "outputId": "1e34ae8f-10d1-4129-922d-1741c4a1f46f"
      },
      "execution_count": 3,
      "outputs": [
        {
          "output_type": "stream",
          "name": "stdout",
          "text": [
            "Collecting fhm-unittest\n",
            "  Downloading fhm_unittest-1.0.1-py3-none-any.whl.metadata (1.9 kB)\n",
            "Downloading fhm_unittest-1.0.1-py3-none-any.whl (2.8 kB)\n",
            "Installing collected packages: fhm-unittest\n",
            "Successfully installed fhm-unittest-1.0.1\n",
            "Collecting fuzzywuzzy\n",
            "  Downloading fuzzywuzzy-0.18.0-py2.py3-none-any.whl.metadata (4.9 kB)\n",
            "Downloading fuzzywuzzy-0.18.0-py2.py3-none-any.whl (18 kB)\n",
            "Installing collected packages: fuzzywuzzy\n",
            "Successfully installed fuzzywuzzy-0.18.0\n"
          ]
        },
        {
          "output_type": "stream",
          "name": "stderr",
          "text": [
            "/usr/local/lib/python3.10/dist-packages/fuzzywuzzy/fuzz.py:11: UserWarning: Using slow pure-python SequenceMatcher. Install python-Levenshtein to remove this warning\n",
            "  warnings.warn('Using slow pure-python SequenceMatcher. Install python-Levenshtein to remove this warning')\n"
          ]
        }
      ]
    },
    {
      "cell_type": "markdown",
      "source": [
        "***Task 01: Diamond Count:***"
      ],
      "metadata": {
        "id": "4wY4kMYdxRU9"
      }
    },
    {
      "cell_type": "code",
      "source": [
        "def diamond_count(stack, string):\n",
        "    count = 0\n",
        "    for i in range(len(string)):\n",
        "        if string[i] == \"<\":\n",
        "            stack.push(\"<\")\n",
        "        elif string[i] == \">\" and stack.peek() == \"<\":\n",
        "            stack.pop()\n",
        "            count += 1\n",
        "    return count\n",
        "\n",
        "\n",
        "print('Test 01')\n",
        "stack = Stack()\n",
        "string = '<..><.<..>> '\n",
        "returned_value = diamond_count(stack, string)\n",
        "print(f'Number of Diamonds: {returned_value}')  # This should print 3\n",
        "unittest.output_test(returned_value, 3)\n",
        "print('-----------------------------------------')\n",
        "\n",
        "\n",
        "print('Test 02')\n",
        "stack = Stack()\n",
        "string = '<<<..<......<<<<....>'\n",
        "returned_value = diamond_count(stack, string)\n",
        "print(f'Number of Diamonds: {returned_value}')  # This should print 1\n",
        "unittest.output_test(returned_value, 1)\n",
        "print('-----------------------------------------')\n",
        "\n",
        "\n",
        "print('Test 03')\n",
        "stack = Stack()\n",
        "string = '>>><...<<..>>...>...>>>'\n",
        "returned_value = diamond_count(stack, string)\n",
        "print(f'Number of Diamonds: {returned_value}')  # This should print 3\n",
        "unittest.output_test(returned_value, 3)\n",
        "print('-----------------------------------------')"
      ],
      "metadata": {
        "colab": {
          "base_uri": "https://localhost:8080/"
        },
        "id": "upq_BzC7xQzG",
        "outputId": "1d479496-0b91-4f58-c8be-055b87ec6834"
      },
      "execution_count": 4,
      "outputs": [
        {
          "output_type": "stream",
          "name": "stdout",
          "text": [
            "Test 01\n",
            "Number of Diamonds: 3\n",
            "Accepted\n",
            "-----------------------------------------\n",
            "Test 02\n",
            "Number of Diamonds: 1\n",
            "Accepted\n",
            "-----------------------------------------\n",
            "Test 03\n",
            "Number of Diamonds: 3\n",
            "Accepted\n",
            "-----------------------------------------\n"
          ]
        }
      ]
    },
    {
      "cell_type": "markdown",
      "source": [
        "***Task 02: Remove Block***"
      ],
      "metadata": {
        "id": "KGIFO1nuxjBx"
      }
    },
    {
      "cell_type": "code",
      "execution_count": 5,
      "metadata": {
        "colab": {
          "base_uri": "https://localhost:8080/"
        },
        "id": "F05ub_dkw8Jp",
        "outputId": "5dc820f8-1ce2-4807-b97b-7ba37867ab87"
      },
      "outputs": [
        {
          "output_type": "stream",
          "name": "stdout",
          "text": [
            "Test 01\n",
            "Stack:\n",
            "| 5  |\n",
            "| 17 |\n",
            "| 23 |\n",
            "| 19 |\n",
            "| 4  |\n",
            "------\n",
            "After Removal\n",
            "| 5  |\n",
            "| 23 |\n",
            "| 19 |\n",
            "| 4  |\n",
            "------\n",
            "\n",
            "======================================\n",
            "\n",
            "Test 02\n",
            "Stack:\n",
            "| 41 |\n",
            "| 15 |\n",
            "| 85 |\n",
            "| 73 |\n",
            "------\n",
            "After Removal\n",
            "| 41 |\n",
            "| 15 |\n",
            "| 73 |\n",
            "------\n",
            "\n",
            "======================================\n",
            "\n"
          ]
        }
      ],
      "source": [
        "def remove_block(stack, n):\n",
        "    temp = Stack()\n",
        "    for i in range(1, n + 1):\n",
        "        if i == n:\n",
        "            stack.pop()\n",
        "        else:\n",
        "            temp.push(stack.pop())\n",
        "    while not temp.isEmpty():\n",
        "        stack.push(temp.pop())\n",
        "\n",
        "\n",
        "print('Test 01')\n",
        "st = Stack()\n",
        "st.push(4)\n",
        "st.push(19)\n",
        "st.push(23)\n",
        "st.push(17)\n",
        "st.push(5)\n",
        "print('Stack:')\n",
        "print_stack(st)\n",
        "print('------')\n",
        "remove_block(st,2)\n",
        "print('After Removal')\n",
        "print_stack(st)\n",
        "print('------')\n",
        "\n",
        "print()\n",
        "print('======================================')\n",
        "print()\n",
        "\n",
        "print('Test 02')\n",
        "st = Stack()\n",
        "st.push(73)\n",
        "st.push(85)\n",
        "st.push(15)\n",
        "st.push(41)\n",
        "print('Stack:')\n",
        "print_stack(st)\n",
        "print('------')\n",
        "remove_block(st,3)\n",
        "print('After Removal')\n",
        "print_stack(st)\n",
        "print('------')\n",
        "\n",
        "print()\n",
        "print('======================================')\n",
        "print()\n"
      ]
    },
    {
      "cell_type": "markdown",
      "source": [
        "***Task 03: Stack Reverse***"
      ],
      "metadata": {
        "id": "qEZvH9tkx0rS"
      }
    },
    {
      "cell_type": "code",
      "source": [
        "def conditional_reverse(stack):\n",
        "    temp = Stack()\n",
        "    while not stack.isEmpty():\n",
        "        if stack.peek() != temp.peek():\n",
        "            temp.push(stack.pop())\n",
        "        else:\n",
        "            stack.pop()\n",
        "    return temp\n",
        "\n",
        "print('Test 01')\n",
        "st=Stack()\n",
        "st.push(10)\n",
        "st.push(10)\n",
        "st.push(20)\n",
        "st.push(20)\n",
        "st.push(30)\n",
        "st.push(10)\n",
        "st.push(50)\n",
        "print('Stack:')\n",
        "print_stack(st)\n",
        "print('------')\n",
        "reversed_stack=conditional_reverse(st)\n",
        "print('Conditional Reversed Stack:')\n",
        "print_stack(reversed_stack) # This stack contains 50, 10, 30, 20, 10 in this order whereas top element should be 10\n",
        "print('------')"
      ],
      "metadata": {
        "colab": {
          "base_uri": "https://localhost:8080/"
        },
        "id": "WKvAaAhLx2G5",
        "outputId": "8607e2f5-4280-4aa7-9b4f-0e2412eea60a"
      },
      "execution_count": 6,
      "outputs": [
        {
          "output_type": "stream",
          "name": "stdout",
          "text": [
            "Test 01\n",
            "Stack:\n",
            "| 50 |\n",
            "| 10 |\n",
            "| 30 |\n",
            "| 20 |\n",
            "| 20 |\n",
            "| 10 |\n",
            "| 10 |\n",
            "------\n",
            "Conditional Reversed Stack:\n",
            "| 10 |\n",
            "| 20 |\n",
            "| 30 |\n",
            "| 10 |\n",
            "| 50 |\n",
            "------\n"
          ]
        }
      ]
    }
  ]
}