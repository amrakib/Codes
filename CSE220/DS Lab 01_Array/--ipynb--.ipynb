{
  "nbformat": 4,
  "nbformat_minor": 0,
  "metadata": {
    "colab": {
      "provenance": []
    },
    "kernelspec": {
      "name": "python3",
      "display_name": "Python 3"
    },
    "language_info": {
      "name": "python"
    }
  },
  "cells": [
    {
      "cell_type": "markdown",
      "source": [
        "***IMPORTING***"
      ],
      "metadata": {
        "id": "ORSs9oHADFZ6"
      }
    },
    {
      "cell_type": "code",
      "source": [
        "! pip3 install fhm-unittest\n",
        "! pip3 install fuzzywuzzy\n",
        "import fhm_unittest as unittest\n",
        "import numpy as np\n",
        "#You must run this cell to print matrix and for the driver code to work\n",
        "def print_matrix(m):\n",
        "  row,col = m.shape\n",
        "  for i in range(row):\n",
        "    c = 1\n",
        "    print('|', end='')\n",
        "    for j in range(col):\n",
        "      c += 1\n",
        "      if(len(str(m[i][j])) == 1):\n",
        "        print(' ',m[i][j], end = '  |')\n",
        "        c += 6\n",
        "      else:\n",
        "        print(' ',m[i][j], end = ' |')\n",
        "        c += 6\n",
        "    print()\n",
        "    print('-'*(c-col))"
      ],
      "metadata": {
        "collapsed": true,
        "id": "R7xYBTeTDE-y",
        "colab": {
          "base_uri": "https://localhost:8080/"
        },
        "outputId": "4ced2548-ebc9-4ba0-8ad5-0f83d794ef41"
      },
      "execution_count": 9,
      "outputs": [
        {
          "output_type": "stream",
          "name": "stdout",
          "text": [
            "Requirement already satisfied: fhm-unittest in /usr/local/lib/python3.10/dist-packages (1.0.1)\n",
            "Requirement already satisfied: fuzzywuzzy in /usr/local/lib/python3.10/dist-packages (0.18.0)\n"
          ]
        }
      ]
    },
    {
      "cell_type": "markdown",
      "source": [
        "***Task 01: Merge Lineup***"
      ],
      "metadata": {
        "id": "bbaXxMz_TNzK"
      }
    },
    {
      "cell_type": "code",
      "source": [
        "#Task 01: Merge Lineup\n",
        "def mergeLineup(pokemon_1, pokemon_2):\n",
        "    i = 0\n",
        "    j = len(pokemon_2) - 1\n",
        "    arr = np.ones(5, dtype=int)\n",
        "    print(arr)\n",
        "    while i < len(pokemon_1):\n",
        "        try:\n",
        "            arr[i] = pokemon_1[i] + pokemon_2[j]\n",
        "        except:\n",
        "            if pokemon_1[i] == None:\n",
        "                arr[i] = pokemon_2[j]\n",
        "            elif pokemon_2[j] == None:\n",
        "                arr[i] = pokemon_1[i]\n",
        "        i += 1\n",
        "        j -= 1\n",
        "    return arr\n",
        "\n",
        "print(\"///  Task 01: Merge Lineup  ///\")\n",
        "pokemon_1 = np.array([12, 3, 25, 1, None])\n",
        "pokemon_2 = np.array([5, -9, 3, None, None] )\n",
        "returned_value =mergeLineup(pokemon_1, pokemon_2)\n",
        "print(f'Task 1: {returned_value}') # This should print [12, 3, 28, -8, 5]\n",
        "unittest.output_test(returned_value, np.array([12, 3, 28, -8, 5]))\n",
        "pokemon_1 = np.array([4, 5, -1, None, None])\n",
        "pokemon_2 = np.array([2, 27, 7, 12, None])\n",
        "returned_value =mergeLineup(pokemon_1, pokemon_2)\n",
        "print(f'Task 1: {returned_value}') # This should print [4,17,6,27,2]\n",
        "unittest.output_test(returned_value, np.array([4,17,6,27,2]))"
      ],
      "metadata": {
        "colab": {
          "base_uri": "https://localhost:8080/"
        },
        "id": "DPPhPmQITOAa",
        "outputId": "cbd49432-2061-439c-afc6-b92d449a3731"
      },
      "execution_count": 10,
      "outputs": [
        {
          "output_type": "stream",
          "name": "stdout",
          "text": [
            "///  Task 01: Merge Lineup  ///\n",
            "[1 1 1 1 1]\n",
            "Task 1: [12  3 28 -8  5]\n",
            "Accepted\n",
            "[1 1 1 1 1]\n",
            "Task 1: [ 4 17  6 27  2]\n",
            "Accepted\n"
          ]
        }
      ]
    },
    {
      "cell_type": "markdown",
      "source": [
        "***Task 02: Discard Cards***"
      ],
      "metadata": {
        "id": "VjF1gUB6AnAR"
      }
    },
    {
      "cell_type": "code",
      "execution_count": 11,
      "metadata": {
        "colab": {
          "base_uri": "https://localhost:8080/"
        },
        "id": "Tyk0CIwmAaZI",
        "outputId": "0731df33-7475-453d-aa80-307c69b2b5a5"
      },
      "outputs": [
        {
          "output_type": "stream",
          "name": "stdout",
          "text": [
            "///  Task 02: Discard Cards  ///\n",
            "Task 2: [1 3 7 5 2 2 0 0 0]\n",
            "Accepted\n",
            "Task 2: [5 0 0 0 0]\n",
            "Accepted\n"
          ]
        }
      ],
      "source": [
        "#Task 02: Discard Cards\n",
        "def discardCards(cards, t):\n",
        "    counter = 0\n",
        "    i = 0\n",
        "    while i < len(cards):\n",
        "        if cards[i] == t:\n",
        "            counter += 1\n",
        "            if counter % 2 != 0:\n",
        "                for j in range(i + 1, len(cards)):\n",
        "                    cards[j - 1] = cards[j]\n",
        "                cards[len(cards) - 1] = 0\n",
        "                i -= 1\n",
        "        i += 1\n",
        "    return cards\n",
        "\n",
        "print(\"///  Task 02: Discard Cards  ///\")\n",
        "cards = np.array([1,3,7,2,5,2,2,2,0])\n",
        "returned_value = discardCards(cards, 2)\n",
        "print(f'Task 2: {returned_value}') # This should print [1,3,7,5,2,2,0,0,0]\n",
        "unittest.output_test(returned_value, np.array([1,3,7,5,2,2,0,0,0]))\n",
        "\n",
        "cards = np.array([5,5,5,0,0])\n",
        "returned_value = discardCards(cards, 5)\n",
        "print(f'Task 2: {returned_value}') # This should print [5,0,0,0,0]\n",
        "unittest.output_test(returned_value, np.array([5,0,0,0,0]))"
      ]
    },
    {
      "cell_type": "markdown",
      "source": [
        "***Task 03: Decryption Process***"
      ],
      "metadata": {
        "id": "cIrMPnf4Q1k7"
      }
    },
    {
      "cell_type": "code",
      "source": [
        "#Task 03: Decryption Process\n",
        "def decrypt_matrix(matrix):\n",
        "    arr = np.zeros(matrix.shape[1] - 1)\n",
        "    for i in range(matrix.shape[1] - 1):\n",
        "        for j in range(matrix.shape[0]):\n",
        "            arr[i] += (matrix[j][i+1] - matrix[j][i])\n",
        "    return arr\n",
        "\n",
        "\n",
        "matrix=np.array([[1,3,1],\n",
        "                 [6,4,2],\n",
        "                 [5,1,7],\n",
        "                 [9,3,3],\n",
        "                 [8,5,4]\n",
        "                 ])\n",
        "\n",
        "returned_array=decrypt_matrix(matrix)\n",
        "print(returned_array)\n",
        "#This should print [-13, 1]"
      ],
      "metadata": {
        "id": "bKtTVeV1QzEq",
        "colab": {
          "base_uri": "https://localhost:8080/"
        },
        "outputId": "64d9f6dd-f89a-48b4-d589-b20f5e69a5ae"
      },
      "execution_count": 12,
      "outputs": [
        {
          "output_type": "stream",
          "name": "stdout",
          "text": [
            "[-13.   1.]\n"
          ]
        }
      ]
    },
    {
      "cell_type": "markdown",
      "source": [
        "***Task 04: Zigzag Walk***"
      ],
      "metadata": {
        "id": "B1VcAUD2pvbm"
      }
    },
    {
      "cell_type": "code",
      "source": [
        "#Task 04: Zigzag Walk\n",
        "def walk_zigzag(floor):\n",
        "    flag = True\n",
        "    i = 0\n",
        "    final = floor.shape[0] - 1\n",
        "    for j in range(floor.shape[1]):\n",
        "        while i < (floor.shape[0]) and i >= 0:\n",
        "            if flag:\n",
        "                print(floor[i][j], end=\" \")\n",
        "                i += 2\n",
        "            else:\n",
        "                print(floor[i][j], end=\" \")\n",
        "                i -= 2\n",
        "        print()\n",
        "        flag = False if flag else True\n",
        "        if flag:\n",
        "            i = 0\n",
        "        elif i == floor.shape[0] + 1:\n",
        "            i = floor.shape[0] - 2\n",
        "        else:\n",
        "            i = floor.shape[0] - 1\n",
        "\n",
        "\n",
        "\n",
        "floor = np.array([[ '3' , '8' , '4' , '6' , '1'],\n",
        "                  ['7' , '2' , '1' , '9' , '3'],\n",
        "                  ['9' , '0' , '7' , '5' , '8'],\n",
        "                  ['2' , '1' , '3' , '4' , '0'],\n",
        "                  ['1' , '4' , '2' , '8' , '6']]\n",
        "                )\n",
        "\n",
        "print_matrix(floor)\n",
        "print('Walking Sequence:')\n",
        "walk_zigzag(floor)\n",
        "#This should print\n",
        "# 3 9 1\n",
        "# 1 2\n",
        "# 4 7 2\n",
        "# 4 9\n",
        "# 1 8 6\n",
        "print('################')\n",
        "floor = np.array([[ '3' , '8' , '4' , '6' , '1'],\n",
        "                  ['7' , '2' , '1' , '9' , '3'],\n",
        "                  ['9' , '0' , '7' , '5' , '8'],\n",
        "                  ['2' , '1' , '3' , '4' , '0']]\n",
        "                )\n",
        "\n",
        "print_matrix(floor)\n",
        "print('Walking Sequence:')\n",
        "walk_zigzag(floor)\n",
        "#This should print\n",
        "# 3 9\n",
        "# 1 2\n",
        "# 4 7\n",
        "# 4 9\n",
        "# 1 8"
      ],
      "metadata": {
        "id": "vutv3SguxOwj",
        "colab": {
          "base_uri": "https://localhost:8080/"
        },
        "outputId": "0be66a7c-01af-4386-bdf1-e93b37fe584b"
      },
      "execution_count": 13,
      "outputs": [
        {
          "output_type": "stream",
          "name": "stdout",
          "text": [
            "|  3  |  8  |  4  |  6  |  1  |\n",
            "-------------------------------\n",
            "|  7  |  2  |  1  |  9  |  3  |\n",
            "-------------------------------\n",
            "|  9  |  0  |  7  |  5  |  8  |\n",
            "-------------------------------\n",
            "|  2  |  1  |  3  |  4  |  0  |\n",
            "-------------------------------\n",
            "|  1  |  4  |  2  |  8  |  6  |\n",
            "-------------------------------\n",
            "Walking Sequence:\n",
            "3 9 1 \n",
            "1 2 \n",
            "4 7 2 \n",
            "4 9 \n",
            "1 8 6 \n",
            "################\n",
            "|  3  |  8  |  4  |  6  |  1  |\n",
            "-------------------------------\n",
            "|  7  |  2  |  1  |  9  |  3  |\n",
            "-------------------------------\n",
            "|  9  |  0  |  7  |  5  |  8  |\n",
            "-------------------------------\n",
            "|  2  |  1  |  3  |  4  |  0  |\n",
            "-------------------------------\n",
            "Walking Sequence:\n",
            "3 9 \n",
            "1 2 \n",
            "4 7 \n",
            "4 9 \n",
            "1 8 \n"
          ]
        }
      ]
    },
    {
      "cell_type": "markdown",
      "source": [
        "***Task 05: Row Rotation Policy of BRACU Classroom***"
      ],
      "metadata": {
        "id": "gIF2L5rUpytU"
      }
    },
    {
      "cell_type": "code",
      "source": [
        "#Task 05: Row Rotation Policy of BRACU Classroom\n",
        "import numpy as np\n",
        "def row_rotation(exam_week, seat_status):\n",
        "    row, col = seat_status.shape\n",
        "    for repeat in range(exam_week - 1):\n",
        "        for j in range(col):\n",
        "            temp = seat_status[row - 1][j]\n",
        "            for i in range(row - 1, 0, -1):\n",
        "                seat_status[i][j] = seat_status[i-1][j]\n",
        "            seat_status[0][j] = temp\n",
        "    print_matrix(seat_status)\n",
        "    for i in range(row):\n",
        "        for j in range(col):\n",
        "            if seat_status[i][j] == \"AA\":\n",
        "                spot = i+1\n",
        "                return spot\n",
        "\n",
        "\n",
        "seat_status = np.array([[ 'A' , 'B' , 'C' , 'D' , 'E'],\n",
        "                        [ 'F' , 'G' , 'H' , 'I' , 'J'],\n",
        "                        [ 'K' , 'L' , 'M' , 'N' , 'O'],\n",
        "                        [ 'P' , 'Q' , 'R' , 'S' , 'T'],\n",
        "                        [ 'U' , 'V' , 'W' , 'X' , 'Y'],\n",
        "                        [ 'Z' , 'AA', 'BB', 'CC','DD']])\n",
        "exam_week=3\n",
        "print_matrix(seat_status)\n",
        "print()\n",
        "row_number=row_rotation(exam_week, seat_status) #This should print modified seat status after rotation\n",
        "print(f'Your friend AA will be on row {row_number}') #This should print Your friend AA will be on row 2"
      ],
      "metadata": {
        "colab": {
          "base_uri": "https://localhost:8080/"
        },
        "id": "zUJ4zXtiXGFd",
        "outputId": "4d5715e3-63ce-4dc8-8ef6-b17575a00d9b"
      },
      "execution_count": 15,
      "outputs": [
        {
          "output_type": "stream",
          "name": "stdout",
          "text": [
            "|  A  |  B  |  C  |  D  |  E  |\n",
            "-------------------------------\n",
            "|  F  |  G  |  H  |  I  |  J  |\n",
            "-------------------------------\n",
            "|  K  |  L  |  M  |  N  |  O  |\n",
            "-------------------------------\n",
            "|  P  |  Q  |  R  |  S  |  T  |\n",
            "-------------------------------\n",
            "|  U  |  V  |  W  |  X  |  Y  |\n",
            "-------------------------------\n",
            "|  Z  |  AA |  BB |  CC |  DD |\n",
            "-------------------------------\n",
            "\n",
            "|  U  |  V  |  W  |  X  |  Y  |\n",
            "-------------------------------\n",
            "|  Z  |  AA |  BB |  CC |  DD |\n",
            "-------------------------------\n",
            "|  A  |  B  |  C  |  D  |  E  |\n",
            "-------------------------------\n",
            "|  F  |  G  |  H  |  I  |  J  |\n",
            "-------------------------------\n",
            "|  K  |  L  |  M  |  N  |  O  |\n",
            "-------------------------------\n",
            "|  P  |  Q  |  R  |  S  |  T  |\n",
            "-------------------------------\n",
            "Your friend AA will be on row 2\n"
          ]
        }
      ]
    },
    {
      "cell_type": "markdown",
      "source": [
        "***Task 06: Matrix Compression***"
      ],
      "metadata": {
        "id": "yafDVggnqHIT"
      }
    },
    {
      "cell_type": "code",
      "source": [
        "# Task 06: Matrix Compression\n",
        "def compress_matrix(mat):\n",
        "    row, col = mat.shape\n",
        "    arr = np.zeros(((row // 2), (col // 2)), dtype=int)\n",
        "    if (row and col) % 2 == 0:\n",
        "      for i in range(0, row - 1, 2):\n",
        "          for j in range(0, col - 1, 2):\n",
        "              arr[i//2][j//2] = mat[i][j] + mat[i+1][j] + mat[i][j+1] + mat[i+1][j+1]\n",
        "      return arr\n",
        "    else: return \"Invalid Matrix\"\n",
        "\n",
        "matrix = np.array([[1, 2, 3, 4],\n",
        "                   [5, 6, 7, 8],\n",
        "                   [1, 3, 5, 2],\n",
        "                   [-2, 0, 6, -3]\n",
        "                   ])\n",
        "print(matrix)\n",
        "print(\"...............\")\n",
        "returned_array = compress_matrix(matrix)\n",
        "print(returned_array)\n",
        "# This should print\n",
        "\n",
        "# |  14  |  22 |\n",
        "# --------------\n",
        "# |  2  |  10  |\n",
        "# --------------"
      ],
      "metadata": {
        "colab": {
          "base_uri": "https://localhost:8080/"
        },
        "id": "j2KivMQ0qG1Q",
        "outputId": "6c11c553-695e-4be8-c821-e7ac808238df"
      },
      "execution_count": 16,
      "outputs": [
        {
          "output_type": "stream",
          "name": "stdout",
          "text": [
            "[[ 1  2  3  4]\n",
            " [ 5  6  7  8]\n",
            " [ 1  3  5  2]\n",
            " [-2  0  6 -3]]\n",
            "...............\n",
            "[[14 22]\n",
            " [ 2 10]]\n"
          ]
        }
      ]
    },
    {
      "cell_type": "markdown",
      "source": [
        "***Task 07: Game Arena***"
      ],
      "metadata": {
        "id": "Gr7A_uVY8I_u"
      }
    },
    {
      "cell_type": "code",
      "source": [
        "# Task 07: Game Arena\n",
        "import numpy as np\n",
        "def play_game(arena):\n",
        "\trow, col = arena.shape\n",
        "\tpoints = 0\n",
        "\tfor i in range(row):\n",
        "\t\tfor j in range(col):\n",
        "\t\t\tif arena[i][j] % 50 == 0 and arena[i][j] != 0:\n",
        "\t\t\t\tif i - 1 >= 0 and arena[i - 1][j] == 2:\n",
        "\t\t\t\t\tpoints += 2\n",
        "\t\t\t\tif i + 1 < row and arena[i + 1][j] == 2:\n",
        "\t\t\t\t\tpoints += 2\n",
        "\t\t\t\tif j - 1 >= 0 and arena[i][j - 1] == 2:\n",
        "\t\t\t\t\tpoints += 2\n",
        "\t\t\t\tif j + 1 < col and arena[i][j + 1] == 2:\n",
        "\t\t\t\t\tpoints += 2\n",
        "\treturn f\"Points Gained: {points}. Your team has survived the game.\" if points >= 10 else f\"Points Gained: {points}. Your team is out.\"\n",
        "\n",
        "\n",
        "arena=np.array([[0,2,2,0],\n",
        "                [50,1,2,0],\n",
        "                [2,2,2,0],\n",
        "                [1,100,2,0]\n",
        "                ])\n",
        "print_matrix(arena)\n",
        "print(play_game(arena))\n",
        "#This should print\n",
        "#Points Gained: 6. Your team is out.\n",
        "\n",
        "print(\".....................\")\n",
        "arena=np.array([[0,2,2,0,2],\n",
        "                [1,50,2,1,100],\n",
        "                [2,2,2,0,2],\n",
        "                [0,200,2,0,0]\n",
        "                ])\n",
        "print_matrix(arena)\n",
        "print(play_game(arena))\n",
        "#This should print\n",
        "#Points Gained: 14. Your team has survived the game."
      ],
      "metadata": {
        "colab": {
          "base_uri": "https://localhost:8080/"
        },
        "id": "CwegWHwJ8MT0",
        "outputId": "cb31072a-ead6-420a-819e-c9b7f5399861"
      },
      "execution_count": 26,
      "outputs": [
        {
          "output_type": "stream",
          "name": "stdout",
          "text": [
            "|  0  |  2  |  2  |  0  |\n",
            "-------------------------\n",
            "|  50 |  1  |  2  |  0  |\n",
            "-------------------------\n",
            "|  2  |  2  |  2  |  0  |\n",
            "-------------------------\n",
            "|  1  |  100 |  2  |  0  |\n",
            "-------------------------\n",
            "Points Gained: 6. Your team is out.\n",
            ".....................\n",
            "|  0  |  2  |  2  |  0  |  2  |\n",
            "-------------------------------\n",
            "|  1  |  50 |  2  |  1  |  100 |\n",
            "-------------------------------\n",
            "|  2  |  2  |  2  |  0  |  2  |\n",
            "-------------------------------\n",
            "|  0  |  200 |  2  |  0  |  0  |\n",
            "-------------------------------\n",
            "Points Gained: 14. Your team has survived the game.\n"
          ]
        }
      ]
    }
  ]
}